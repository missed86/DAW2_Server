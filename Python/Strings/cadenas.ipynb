{
 "cells": [
  {
   "cell_type": "markdown",
   "metadata": {},
   "source": [
    "## Ejercicios de Cadenas"
   ]
  },
  {
   "cell_type": "markdown",
   "metadata": {},
   "source": [
    "<b>Ejercicio 6.8.1.</b> Escribir funciones que dada una cadena de caracteres:"
   ]
  },
  {
   "cell_type": "code",
   "execution_count": 3,
   "metadata": {},
   "outputs": [],
   "source": [
    "cad = \"En un lugar de la Mancha de cuyo nombre no quiero acordarme\""
   ]
  },
  {
   "cell_type": "markdown",
   "metadata": {},
   "source": [
    "a) Imprima los dos primeros caracteres."
   ]
  },
  {
   "cell_type": "code",
   "execution_count": 4,
   "metadata": {
    "collapsed": true
   },
   "outputs": [],
   "source": [
    "def dos(cad):\n",
    "    \"\"\" DocString\n",
    "    \"\"\"\n",
    "    print(cad[:2])\n"
   ]
  },
  {
   "cell_type": "code",
   "execution_count": 1,
   "metadata": {
    "collapsed": false
   },
   "outputs": [
    {
     "ename": "NameError",
     "evalue": "name 'dos' is not defined",
     "output_type": "error",
     "traceback": [
      "\u001b[0;31m---------------------------------------------------------------------------\u001b[0m",
      "\u001b[0;31mNameError\u001b[0m                                 Traceback (most recent call last)",
      "Cell \u001b[0;32mIn[1], line 1\u001b[0m\n\u001b[0;32m----> 1\u001b[0m dos(cad)\n",
      "\u001b[0;31mNameError\u001b[0m: name 'dos' is not defined"
     ]
    }
   ],
   "source": [
    "dos(cad)"
   ]
  },
  {
   "cell_type": "markdown",
   "metadata": {},
   "source": [
    "b) Imprima los tres últimos caracteres."
   ]
  },
  {
   "cell_type": "code",
   "execution_count": 2,
   "metadata": {
    "collapsed": true
   },
   "outputs": [],
   "source": [
    "def tres(cad):\n",
    "    \"\"\" DocString\n",
    "    \"\"\"\n",
    "    print(cad[-3:])\n"
   ]
  },
  {
   "cell_type": "code",
   "execution_count": 3,
   "metadata": {
    "collapsed": false
   },
   "outputs": [
    {
     "ename": "NameError",
     "evalue": "name 'cad' is not defined",
     "output_type": "error",
     "traceback": [
      "\u001b[0;31m---------------------------------------------------------------------------\u001b[0m",
      "\u001b[0;31mNameError\u001b[0m                                 Traceback (most recent call last)",
      "Cell \u001b[0;32mIn[3], line 1\u001b[0m\n\u001b[0;32m----> 1\u001b[0m tres(cad)\n",
      "\u001b[0;31mNameError\u001b[0m: name 'cad' is not defined"
     ]
    }
   ],
   "source": [
    "tres(cad)"
   ]
  },
  {
   "cell_type": "markdown",
   "metadata": {},
   "source": [
    "c) Imprima dicha cadena cada dos caracteres. Ej.: recta debería imprimir rca"
   ]
  },
  {
   "cell_type": "code",
   "execution_count": 6,
   "metadata": {
    "collapsed": true
   },
   "outputs": [],
   "source": [
    "def cada_dos(cad):\n",
    "    \"\"\" DocString\n",
    "    \"\"\"\n",
    "    cadena = \"\"\n",
    "    for i in range(0, len(cad), 2):\n",
    "        cadena += cad[i]\n",
    "    print(cadena)\n",
    "    \n",
    "def cada_dos_2(cad):\n",
    "    \"\"\" DocString\n",
    "    \"\"\"\n",
    "    print(cad[::2])\n",
    "\n",
    "    "
   ]
  },
  {
   "cell_type": "code",
   "execution_count": 7,
   "metadata": {
    "collapsed": false
   },
   "outputs": [
    {
     "ename": "NameError",
     "evalue": "name 'cad' is not defined",
     "output_type": "error",
     "traceback": [
      "\u001b[0;31m---------------------------------------------------------------------------\u001b[0m",
      "\u001b[0;31mNameError\u001b[0m                                 Traceback (most recent call last)",
      "Cell \u001b[0;32mIn[7], line 1\u001b[0m\n\u001b[0;32m----> 1\u001b[0m cada_dos(cad)\n\u001b[1;32m      2\u001b[0m cada_dos(\u001b[39m\"\u001b[39m\u001b[39mrecta\u001b[39m\u001b[39m\"\u001b[39m)\n\u001b[1;32m      3\u001b[0m cada_dos_2(cad)\n",
      "\u001b[0;31mNameError\u001b[0m: name 'cad' is not defined"
     ]
    }
   ],
   "source": [
    "cada_dos(cad)\n",
    "cada_dos(\"recta\")\n",
    "cada_dos_2(cad)"
   ]
  },
  {
   "cell_type": "markdown",
   "metadata": {},
   "source": [
    "d) Dicha cadena en sentido inverso. Ej.: ¡Hola mundo! debe imprimir !odnum aloH¡"
   ]
  },
  {
   "cell_type": "code",
   "execution_count": 10,
   "metadata": {
    "collapsed": true
   },
   "outputs": [],
   "source": [
    "def inversa(cad):\n",
    "    \"\"\" DocString\n",
    "    \"\"\"\n",
    "    salida = \"\"\n",
    "    for i in range(len(cad)-1, -1, -1):\n",
    "        salida += cad[i]\n",
    "    print(salida)\n",
    "\n",
    "def inversa_2(cad):\n",
    "    \"\"\" DocString\n",
    "    \"\"\"\n",
    "    print(cad[::-1])"
   ]
  },
  {
   "cell_type": "code",
   "execution_count": 11,
   "metadata": {
    "collapsed": false
   },
   "outputs": [
    {
     "name": "stdout",
     "output_type": "stream",
     "text": [
      "emradroca oreiuq on erbmon oyuc ed ahcnaM al ed ragul nu nE\n",
      "!odnum aloH¡\n",
      "emradroca oreiuq on erbmon oyuc ed ahcnaM al ed ragul nu nE\n"
     ]
    }
   ],
   "source": [
    "inversa(cad)\n",
    "inversa(\"¡Hola mundo!\")\n",
    "inversa_2(cad)"
   ]
  },
  {
   "cell_type": "markdown",
   "metadata": {},
   "source": [
    "e) Imprima la cadena en un sentido y en sentido inverso. Ej: reflejo imprime reflejoojelfer."
   ]
  },
  {
   "cell_type": "code",
   "execution_count": 12,
   "metadata": {
    "collapsed": true
   },
   "outputs": [],
   "source": [
    "def reflejo(cad):\n",
    "    \"\"\" DocString\n",
    "    \"\"\"\n",
    "    salida = cad\n",
    "    for i in range(len(cad)-1, -1, -1):\n",
    "        salida += cad[i]\n",
    "    print(salida)\n",
    "\n",
    "def reflejo_2(cad):\n",
    "    \"\"\" DocString\n",
    "    \"\"\"\n",
    "    print(cad + cad[::-1])\n"
   ]
  },
  {
   "cell_type": "code",
   "execution_count": 13,
   "metadata": {
    "collapsed": false
   },
   "outputs": [
    {
     "name": "stdout",
     "output_type": "stream",
     "text": [
      "En un lugar de la Mancha de cuyo nombre no quiero acordarmeemradroca oreiuq on erbmon oyuc ed ahcnaM al ed ragul nu nE\n",
      "reflejoojelfer\n",
      "reflejoojelfer\n"
     ]
    }
   ],
   "source": [
    "reflejo(cad)\n",
    "reflejo(\"reflejo\")\n",
    "reflejo_2(\"reflejo\")"
   ]
  },
  {
   "cell_type": "markdown",
   "metadata": {},
   "source": [
    "<b>Ejercicio 6.8.2.</b> Escribir funciones que dada una cadena y un caracter:"
   ]
  },
  {
   "cell_type": "markdown",
   "metadata": {},
   "source": [
    "a) Inserte el caracter entre cada letra de la cadena. Ej: separar y , debería devolver s,e,p,a,r,a,r"
   ]
  },
  {
   "cell_type": "code",
   "execution_count": 14,
   "metadata": {
    "collapsed": false
   },
   "outputs": [],
   "source": [
    "def separar(cad):\n",
    "    \"\"\" DocString\n",
    "    \"\"\"\n",
    "    salida = \"\"\n",
    "    for letra in cad:\n",
    "        salida = salida + letra + \",\"\n",
    "    return salida[:len(salida)-1]\n",
    "\n",
    "def separar2(cad, rmax):\n",
    "    \"\"\" DocString\n",
    "    \"\"\"\n",
    "    if rmax == 0:\n",
    "        return cad\n",
    "    salida = \"\"\n",
    "    rep = 0\n",
    "    for i in range(len(cad)-1):\n",
    "        salida = salida + cad[i] + \",\"\n",
    "        rep += 1\n",
    "        if rep == rmax:\n",
    "            salida = salida + cad[i+1:]\n",
    "            return salida\n",
    "    salida += cad[len(cad)-1]\n",
    "    return salida"
   ]
  },
  {
   "cell_type": "code",
   "execution_count": 15,
   "metadata": {
    "collapsed": false
   },
   "outputs": [
    {
     "name": "stdout",
     "output_type": "stream",
     "text": [
      "E,n, ,u,n, ,l,u,g,a,r, ,d,e, ,l,a, ,M,a,n,c,h,a, ,d,e, ,c,u,y,o, ,n,o,m,b,r,e, ,n,o, ,q,u,i,e,r,o, ,a,c,o,r,d,a,r,m,e\n",
      "En un lugar de la Mancha de cuyo nombre no quiero acordarme\n",
      "E,n, ,u,n, ,l,u,g,a,r, ,d,e, ,l,a, ,M,a,n,c,h,a, ,d,e, ,c,u,y,o, ,n,o,m,b,r,e, ,n,o, ,q,u,i,e,r,o, ,a,c,o,r,d,a,r,me\n",
      "E,n, ,u,n, ,l,u,g,a,r, ,d,e, ,l,a, ,M,a,n,c,h,a, ,d,e, ,c,u,y,o, ,n,o,m,b,r,e, ,n,o, ,q,u,i,e,r,o, ,a,c,o,r,d,a,r,m,e\n",
      "s,e,parar\n"
     ]
    }
   ],
   "source": [
    "print(separar(cad))\n",
    "print(separar2(cad,0))\n",
    "print(separar2(cad,57))\n",
    "print(separar2(cad,100))\n",
    "print(separar2(\"separar\",2))"
   ]
  },
  {
   "cell_type": "code",
   "execution_count": null,
   "metadata": {},
   "outputs": [],
   "source": []
  },
  {
   "cell_type": "markdown",
   "metadata": {},
   "source": [
    "b) Reemplace todos los espacios por el carácter. Ej: mi archivo de texto.txt y \\_ debería devolver mi\\_archivo\\_de\\_texto.txt"
   ]
  },
  {
   "cell_type": "code",
   "execution_count": 16,
   "metadata": {
    "collapsed": true
   },
   "outputs": [],
   "source": [
    "def cambiar(cad, car):\n",
    "    \"\"\"DocString\n",
    "    \"\"\"\n",
    "    salida = \"\"\n",
    "    for letra in cad:\n",
    "        if letra == \" \":\n",
    "            salida += car\n",
    "        else:\n",
    "            salida += letra\n",
    "    return salida\n",
    "\n",
    "\n",
    "\n",
    "def cambiar2(cad, car, rmax):\n",
    "    \"\"\"DocString\n",
    "    \"\"\"\n",
    "    if rmax == 0:\n",
    "        return cad\n",
    "    salida = \"\"\n",
    "    rep = 0\n",
    "    long = len(cad)\n",
    "    for i in range(long):\n",
    "        if cad[i] == \" \":\n",
    "            salida += car\n",
    "            rep += 1\n",
    "            if rep == rmax:\n",
    "                salida += cad[i+1:]\n",
    "                break\n",
    "        else:\n",
    "            salida += cad[i]\n",
    "    return salida\n"
   ]
  },
  {
   "cell_type": "code",
   "execution_count": 17,
   "metadata": {
    "collapsed": false
   },
   "outputs": [
    {
     "name": "stdout",
     "output_type": "stream",
     "text": [
      "En_un_lugar_de_la_Mancha_de_cuyo_nombre_no_quiero_acordarme\n",
      "En un lugar de la Mancha de cuyo nombre no quiero acordarme\n",
      "En_un_lugar_de_la_Mancha_de_cuyo_nombre_no_quiero_acordarme\n",
      "En_un_lugar de la Mancha de cuyo nombre no quiero acordarme\n"
     ]
    }
   ],
   "source": [
    "print(cambiar(cad,\"_\"))\n",
    "print(cambiar2(cad,\"_\",0))\n",
    "print(cambiar2(cad,\"_\",100))\n",
    "print(cambiar2(cad,\"_\",2))"
   ]
  },
  {
   "cell_type": "code",
   "execution_count": null,
   "metadata": {},
   "outputs": [],
   "source": []
  },
  {
   "cell_type": "markdown",
   "metadata": {},
   "source": [
    "c) Reemplace todos los dígitos en la cadena por el carácter. Ej: su clave es: 1540 y X debería devolver su clave es: XXXX"
   ]
  },
  {
   "cell_type": "code",
   "execution_count": 18,
   "metadata": {
    "collapsed": true
   },
   "outputs": [],
   "source": [
    "def cambiar_x(cad):\n",
    "    \"\"\"DocString\n",
    "    \"\"\"\n",
    "    salida = \"\"\n",
    "    digitos = \"0123456789\"\n",
    "    for letra in cad:\n",
    "        if letra in digitos:\n",
    "            salida += \"X\"\n",
    "        else:\n",
    "            salida += letra\n",
    "    return salida\n",
    "\n",
    "def cambiar_x2(cad, rmax):\n",
    "    \"\"\"DocString\n",
    "    \"\"\"\n",
    "    if rmax == 0:\n",
    "        return cad\n",
    "    salida = \"\"\n",
    "    rep = 0\n",
    "    digitos = \"0123456789\"\n",
    "    for i in range(len(cad)):\n",
    "        if cad[i] in digitos:\n",
    "            salida += \"X\"\n",
    "            rep += 1\n",
    "            if rep == rmax:\n",
    "                salida += cad[i+1:]\n",
    "                break\n",
    "        else:\n",
    "            salida += cad[i]\n",
    "    return salida"
   ]
  },
  {
   "cell_type": "code",
   "execution_count": 19,
   "metadata": {
    "collapsed": false
   },
   "outputs": [
    {
     "name": "stdout",
     "output_type": "stream",
     "text": [
      "su clave es: XXXX\n",
      "su clave es: 1540\n",
      "su clave es: XX40\n",
      "su clave es: XXXX\n"
     ]
    }
   ],
   "source": [
    "print(cambiar_x(\"su clave es: 1540\"))\n",
    "print(cambiar_x2(\"su clave es: 1540\",0))\n",
    "print(cambiar_x2(\"su clave es: 1540\",2))\n",
    "print(cambiar_x2(\"su clave es: 1540\",10))"
   ]
  },
  {
   "cell_type": "markdown",
   "metadata": {},
   "source": [
    "d) Inserte el caracter cada 3 dígitos en la cadena. Ej. 2552552550 y . debería devolver 255.255.255.0"
   ]
  },
  {
   "cell_type": "code",
   "execution_count": 20,
   "metadata": {
    "collapsed": false
   },
   "outputs": [],
   "source": [
    "def puntos(cad):\n",
    "    \"\"\"DocString\n",
    "    \"\"\"\n",
    "    if cad == \"\":\n",
    "        return cad\n",
    "    salida = \"\"\n",
    "    numero_puntos=len(cad)//3\n",
    "    for veces in range(numero_puntos):\n",
    "        for trio in range(3):\n",
    "            salida += cad[veces*3+trio]\n",
    "        salida += \".\"\n",
    "    salida += cad[numero_puntos*3:]\n",
    "    if salida[-1] == \".\":\n",
    "        salida = salida[:-1] \n",
    "    return salida\n",
    "\n",
    "def puntos2(cad,rmax):\n",
    "    \"\"\"DocString\n",
    "    \"\"\"\n",
    "    if rmax == 0 or cad == \"\":\n",
    "        return cad\n",
    "    salida = \"\"\n",
    "    long = len(cad)\n",
    "    if rmax > long//3:\n",
    "        numero_puntos = long//3\n",
    "    else:\n",
    "        numero_puntos = rmax\n",
    "    for veces in range(numero_puntos):\n",
    "        for trio in range(3):\n",
    "            salida += cad[veces*3 + trio]\n",
    "        salida += \".\"  \n",
    "    salida += cad[numero_puntos*3:]\n",
    "    if salida[-1] == \".\":\n",
    "        return salida[:-1]\n",
    "    return salida"
   ]
  },
  {
   "cell_type": "code",
   "execution_count": 21,
   "metadata": {
    "collapsed": false
   },
   "outputs": [
    {
     "name": "stdout",
     "output_type": "stream",
     "text": [
      "\n",
      "2\n",
      "25\n",
      "255\n",
      "255.255.255.0\n",
      "255.255.255.25\n",
      "255.255.255.255\n",
      "\n",
      "2\n",
      "25\n",
      "255\n",
      "255.2552550\n",
      "255.25525525\n",
      "255.255255255\n",
      "\n",
      "2\n",
      "25\n",
      "255\n",
      "255.255.255.0\n",
      "255.255.255.25\n",
      "255.255.255.255\n",
      "\n",
      "2\n",
      "25\n",
      "255\n",
      "255.255.255.0\n",
      "255.255.255.25\n",
      "255.255.255.255\n"
     ]
    }
   ],
   "source": [
    "print(puntos(\"\"))\n",
    "print(puntos(\"2\"))\n",
    "print(puntos(\"25\"))\n",
    "print(puntos(\"255\"))\n",
    "print(puntos(\"2552552550\"))\n",
    "print(puntos(\"25525525525\"))\n",
    "print(puntos(\"255255255255\"))\n",
    "\n",
    "print(puntos2(\"\",1))\n",
    "print(puntos2(\"2\",1))\n",
    "print(puntos2(\"25\",1))\n",
    "print(puntos2(\"255\",1))\n",
    "print(puntos2(\"2552552550\",1))\n",
    "print(puntos2(\"25525525525\",1))\n",
    "print(puntos2(\"255255255255\",1))\n",
    "\n",
    "print(puntos2(\"\",3))\n",
    "print(puntos2(\"2\",3))\n",
    "print(puntos2(\"25\",3))\n",
    "print(puntos2(\"255\",3))\n",
    "print(puntos2(\"2552552550\",3))\n",
    "print(puntos2(\"25525525525\",3))\n",
    "print(puntos2(\"255255255255\",3))\n",
    "\n",
    "print(puntos2(\"\",7))\n",
    "print(puntos2(\"2\",7))\n",
    "print(puntos2(\"25\",7))\n",
    "print(puntos2(\"255\",7))\n",
    "print(puntos2(\"2552552550\",7))\n",
    "print(puntos2(\"25525525525\",7))\n",
    "print(puntos2(\"255255255255\",7))"
   ]
  },
  {
   "cell_type": "markdown",
   "metadata": {},
   "source": [
    "<b>Ejercicio 6.8.3.</b> Modificar las funciones anteriores, para que reciban un parámetro que indique la cantidad máxima de reemplazos o inserciones a realizar."
   ]
  },
  {
   "cell_type": "markdown",
   "metadata": {
    "collapsed": true
   },
   "source": [
    "<i>Ver versión 2 de cada una de ellas en las soluciones anteriores</i>"
   ]
  },
  {
   "cell_type": "markdown",
   "metadata": {},
   "source": [
    "<b>Ejercicio 6.8.4.</b> Escribir una función que reciba una cadena que contiene un largo número entero y devuelva una cadena con el número y las separaciones de miles. Por ejemplo, si recibe 1234567890, debe devolver 1.234.567.890."
   ]
  },
  {
   "cell_type": "code",
   "execution_count": 22,
   "metadata": {
    "collapsed": false
   },
   "outputs": [],
   "source": [
    "import locale\n",
    "\n",
    "def puntua1(cad):\n",
    "    \"\"\"DocString\n",
    "    \"\"\"\n",
    "    try:\n",
    "        return '{0:,}'.format(int(cad)).replace(\",\", \".\")\n",
    "    except TypeError:\n",
    "        return -1\n",
    "\n",
    "def puntua2(cad):\n",
    "    \"\"\"DocString\n",
    "    \"\"\"\n",
    "    locale.setlocale(locale.LC_ALL, '')\n",
    "    try:\n",
    "        return locale.format(\"%d\", int(cad), grouping=True)\n",
    "    except TypeError:\n",
    "        return -1\n",
    "\n",
    "def puntua3(cad):\n",
    "    \"\"\"DocString\n",
    "    \"\"\"\n",
    "    locale.setlocale(locale.LC_ALL, '')\n",
    "    try:\n",
    "        return '{:n}'.format(int(cad))\n",
    "    except TypeError:\n",
    "        return -1\n",
    "\n",
    "def puntua4(cad):\n",
    "    \"\"\"DocString\n",
    "    \"\"\"\n",
    "    long = len(cad)\n",
    "    primeros = long % 3\n",
    "    if primeros > 0:\n",
    "        salida = cad[0:primeros]+\".\"\n",
    "    else:\n",
    "        salida = \"\"\n",
    "    for i in range(long//3):\n",
    "        salida = salida + cad[primeros+i*3:primeros+i*3+3] + \".\"\n",
    "    return salida[:-1]\n"
   ]
  },
  {
   "cell_type": "code",
   "execution_count": 23,
   "metadata": {
    "collapsed": false,
    "scrolled": true
   },
   "outputs": [
    {
     "name": "stdout",
     "output_type": "stream",
     "text": [
      "1.234.567.890\n",
      "1.234.567.890\n",
      "1.234.567.890\n",
      "1.234.567.890\n"
     ]
    },
    {
     "name": "stderr",
     "output_type": "stream",
     "text": [
      "/tmp/ipykernel_10279/919074642.py:16: DeprecationWarning: This method will be removed in a future version of Python. Use 'locale.format_string()' instead.\n",
      "  return locale.format(\"%d\", int(cad), grouping=True)\n"
     ]
    }
   ],
   "source": [
    "print(puntua1(\"1234567890\"))\n",
    "print(puntua2(\"1234567890\"))\n",
    "print(puntua3(\"1234567890\"))\n",
    "print(puntua4(\"1234567890\"))"
   ]
  },
  {
   "cell_type": "markdown",
   "metadata": {},
   "source": [
    "<b>Ejercicio 6.8.5.</b> Escribir una función que dada una cadena de caracteres, devuelva:"
   ]
  },
  {
   "cell_type": "markdown",
   "metadata": {},
   "source": [
    "a) La primera letra de cada palabra. Por ejemplo, si recibe Universal Serial Bus debe devolver USB."
   ]
  },
  {
   "cell_type": "code",
   "execution_count": 24,
   "metadata": {
    "collapsed": true
   },
   "outputs": [],
   "source": [
    "def siglas1(cad):\n",
    "    \"\"\" DocString\n",
    "    \"\"\"\n",
    "    cad = \" \" + cad.strip()\n",
    "    sig = \"\"\n",
    "    while True:\n",
    "        i = cad.find(\" \")\n",
    "        if i != -1:\n",
    "            cad = cad[i+1:]\n",
    "            if cad[0] == \" \":\n",
    "                continue\n",
    "            else:\n",
    "                sig = sig + cad[0]\n",
    "        else:\n",
    "            return sig\n",
    "\n",
    "def siglas2(cad):\n",
    "    \"\"\"DocString\n",
    "    \"\"\"\n",
    "    cad = \" \" + cad.strip()\n",
    "    sig = \"\"\n",
    "    i = cad.find(\" \")\n",
    "    while i != -1:\n",
    "        cad = cad[i+1:]\n",
    "        if cad[0] != \" \":\n",
    "            sig = sig + cad[0]\n",
    "        i = cad.find(\" \")\n",
    "    return sig"
   ]
  },
  {
   "cell_type": "code",
   "execution_count": 25,
   "metadata": {
    "collapsed": false
   },
   "outputs": [
    {
     "name": "stdout",
     "output_type": "stream",
     "text": [
      "USB\n",
      "USB\n"
     ]
    }
   ],
   "source": [
    "print(siglas1(\"   Universal Serial     Bus     \"))\n",
    "print(siglas2(\"   Universal     Serial     Bus     \"))"
   ]
  },
  {
   "cell_type": "markdown",
   "metadata": {},
   "source": [
    "b) Dicha cadena con la primera letra de cada palabra en mayúsculas. Por ejemplo, si recibe república argentina debe devolver República Argentina."
   ]
  },
  {
   "cell_type": "code",
   "execution_count": 26,
   "metadata": {
    "collapsed": true
   },
   "outputs": [],
   "source": [
    "def mayus(cad):\n",
    "    \"\"\"DocString\n",
    "    \"\"\"\n",
    "    cad = cad.strip()+ \" \"\n",
    "    sig = \"\"\n",
    "    i = cad.find(\" \")\n",
    "    while i != -1:\n",
    "        if i != 0:\n",
    "            sig = sig + cad[0:i].capitalize() + \" \"\n",
    "        cad = cad[i+1:]\n",
    "        i = cad.find(\" \")\n",
    "    return sig[:-1]"
   ]
  },
  {
   "cell_type": "code",
   "execution_count": 27,
   "metadata": {
    "collapsed": false
   },
   "outputs": [
    {
     "name": "stdout",
     "output_type": "stream",
     "text": [
      "La Confianza Pública En Ellos Tendrá Que Ser Destruida Completamente Para Acabar Realmente Con Ellos\n"
     ]
    }
   ],
   "source": [
    "print(mayus(\"La confianza pública en ellos tendrá que ser destruida completamente para acabar realmente con ellos\"))"
   ]
  },
  {
   "cell_type": "markdown",
   "metadata": {},
   "source": [
    "c) Las palabras que comiencen con la letra A. Por ejemplo, si recibe Antes de ayer debe devolver Antes ayer."
   ]
  },
  {
   "cell_type": "code",
   "execution_count": 28,
   "metadata": {
    "collapsed": true
   },
   "outputs": [],
   "source": [
    "def aes(cad):\n",
    "    \"\"\"DocString\"\"\"\n",
    "    cad = \" \" + cad.strip() + \" \"\n",
    "    i = cad.find(\" \")\n",
    "    sig = \"\"\n",
    "    while i != -1:\n",
    "        cad = cad[1:]\n",
    "        encontrado = cad.find(\" \")\n",
    "        if (encontrado != -1) and (cad[0] in \"aA\"):  \n",
    "            sig = sig + cad[0:encontrado] + \" \"\n",
    "        cad = cad[encontrado:]\n",
    "        i = cad.find(\" \")\n",
    "    return sig[:-1]"
   ]
  },
  {
   "cell_type": "code",
   "execution_count": 29,
   "metadata": {
    "collapsed": false
   },
   "outputs": [
    {
     "name": "stdout",
     "output_type": "stream",
     "text": [
      "Antes Antonio ayer\n"
     ]
    }
   ],
   "source": [
    "print(aes(\"    Antes de  fdfff      Antonio    ayer     \"))"
   ]
  },
  {
   "cell_type": "code",
   "execution_count": null,
   "metadata": {},
   "outputs": [],
   "source": []
  },
  {
   "cell_type": "markdown",
   "metadata": {},
   "source": [
    "<b>Ejercicio 6.8.6.</b> Escribir funciones que dada una cadena de caracteres:"
   ]
  },
  {
   "cell_type": "markdown",
   "metadata": {},
   "source": [
    "a) Devuelva solamente las letras consonantes. Por ejemplo, si recibe algoritmos o logaritmos debe devolver lgrtms."
   ]
  },
  {
   "cell_type": "code",
   "execution_count": 30,
   "metadata": {
    "collapsed": true
   },
   "outputs": [],
   "source": [
    "def consonantes(cad):\n",
    "    \"\"\"DocString\"\"\"\n",
    "    consonante = \"\"\n",
    "    for letra in cad:\n",
    "        if letra not in \"aeiouAEIOU\":\n",
    "            consonante += letra\n",
    "    return consonante"
   ]
  },
  {
   "cell_type": "code",
   "execution_count": 31,
   "metadata": {
    "collapsed": false
   },
   "outputs": [
    {
     "name": "stdout",
     "output_type": "stream",
     "text": [
      "lgrtms, lgrtms\n"
     ]
    }
   ],
   "source": [
    "print(consonantes(\"Algoritmos, logaritmos\"))"
   ]
  },
  {
   "cell_type": "markdown",
   "metadata": {},
   "source": [
    "b) Devuelva solamente las letras vocales. Por ejemplo, si recibe sin consonantes debe devolver i ooae."
   ]
  },
  {
   "cell_type": "code",
   "execution_count": 32,
   "metadata": {
    "collapsed": true
   },
   "outputs": [],
   "source": [
    "def vocales(cad):\n",
    "    \"\"\"DocString\"\"\"\n",
    "    consonantes = \"\"\n",
    "    for letra in cad:\n",
    "        if letra in \"aeiouAEIOU \":\n",
    "            consonantes += letra\n",
    "    return consonantes"
   ]
  },
  {
   "cell_type": "code",
   "execution_count": 33,
   "metadata": {
    "collapsed": false
   },
   "outputs": [
    {
     "name": "stdout",
     "output_type": "stream",
     "text": [
      "i ooae uieao uaaaaa a eaia\n"
     ]
    }
   ],
   "source": [
    "print(vocales(\"sin consonantes murcielago Guadalajara san sebastian\"))"
   ]
  },
  {
   "cell_type": "markdown",
   "metadata": {},
   "source": [
    "c) Reemplace cada vocal por su siguiente vocal. Por ejemplo, si recibe vestuario debe devolver vistaerou."
   ]
  },
  {
   "cell_type": "code",
   "execution_count": 34,
   "metadata": {
    "collapsed": true
   },
   "outputs": [],
   "source": [
    "def revocaliza(cad):\n",
    "    \"\"\"DocString\"\"\"\n",
    "    revoca = \"\"\n",
    "    voc = \"aeiouaAEIOUA\"\n",
    "    for car in cad:\n",
    "        if car in \"aeiouAEIOU\":\n",
    "            revoca += voc[voc.find(car)+1]\n",
    "        else:\n",
    "            revoca += car\n",
    "    return revoca"
   ]
  },
  {
   "cell_type": "code",
   "execution_count": 35,
   "metadata": {
    "collapsed": false
   },
   "outputs": [
    {
     "name": "stdout",
     "output_type": "stream",
     "text": [
      "vistAeroU\n"
     ]
    }
   ],
   "source": [
    "print (revocaliza(\"vestUariO\"))"
   ]
  },
  {
   "cell_type": "markdown",
   "metadata": {},
   "source": [
    "d) Indique si se trata de un palíndromo. Por ejemplo, anita lava la tina es un palíndromo (se lee igual de izquierda a derecha que de derecha a izquierda)."
   ]
  },
  {
   "cell_type": "code",
   "execution_count": 36,
   "metadata": {
    "collapsed": false
   },
   "outputs": [],
   "source": [
    "def palindromo(cad):\n",
    "    \"\"\"DocString\"\"\"\n",
    "    cad_limpia = \"\"\n",
    "    for car in cad:\n",
    "        if car != \" \":\n",
    "            cad_limpia += car\n",
    "    tramo1 = len(cad_limpia)//2\n",
    "    tramo2 = tramo1 - (len(cad_limpia)+1)%2\n",
    "    return cad_limpia[:tramo1] == cad_limpia[:tramo2:-1]\n",
    "\n",
    "def palindromo_2(cad):\n",
    "    cad_limpia = \"\"\n",
    "    for car in cad:\n",
    "        if car != \" \":\n",
    "            cad_limpia += car\n",
    "    return cad_limpia == cad_limpia[::-1]"
   ]
  },
  {
   "cell_type": "code",
   "execution_count": 37,
   "metadata": {
    "collapsed": false
   },
   "outputs": [
    {
     "name": "stdout",
     "output_type": "stream",
     "text": [
      "False\n",
      "False\n"
     ]
    }
   ],
   "source": [
    "print(palindromo(\"antalava la tina\"))\n",
    "print(palindromo_2(\"anytalava la tina\"))"
   ]
  },
  {
   "cell_type": "markdown",
   "metadata": {},
   "source": [
    "<b>Ejercicio 6.8.7.</b> Escribir funciones que dadas dos cadenas de caracteres:"
   ]
  },
  {
   "cell_type": "markdown",
   "metadata": {},
   "source": [
    "a) Indique si la segunda cadena es una subcadena de la primera. Por ejemplo, cadena es una subcadena de subcadena."
   ]
  },
  {
   "cell_type": "code",
   "execution_count": 38,
   "metadata": {
    "collapsed": false
   },
   "outputs": [],
   "source": [
    "def subcadena(cad, subcad):\n",
    "    \"\"\"DocString\n",
    "    \"\"\"\n",
    "    return cad.find(subcad) != -1\n",
    "\n",
    "def subcadena_2(cad, subcad):\n",
    "    \"\"\" DocString\n",
    "    \"\"\"\n",
    "    return subcad in cad"
   ]
  },
  {
   "cell_type": "code",
   "execution_count": 39,
   "metadata": {
    "collapsed": false
   },
   "outputs": [
    {
     "name": "stdout",
     "output_type": "stream",
     "text": [
      "True\n",
      "True\n"
     ]
    }
   ],
   "source": [
    "print(subcadena(\"subcadena\",\"cadena\"))\n",
    "print(subcadena_2(\"subcadena\",\"cadena\"))\n"
   ]
  },
  {
   "cell_type": "markdown",
   "metadata": {},
   "source": [
    "b) Devuelva la que sea anterior en orden alfábetico. Por ejemplo, si recibe kde y gnome debe devolver gnome."
   ]
  },
  {
   "cell_type": "code",
   "execution_count": 40,
   "metadata": {
    "collapsed": true
   },
   "outputs": [],
   "source": [
    "def alfa(cad1, cad2):\n",
    "    \"\"\"DocString\n",
    "    \"\"\"\n",
    "    if cad1 < cad2:\n",
    "        return cad1\n",
    "    else:\n",
    "        return cad2\n"
   ]
  },
  {
   "cell_type": "code",
   "execution_count": 41,
   "metadata": {
    "collapsed": false
   },
   "outputs": [
    {
     "name": "stdout",
     "output_type": "stream",
     "text": [
      "gnome\n"
     ]
    }
   ],
   "source": [
    "print(alfa(\"kde\",\"gnome\"))"
   ]
  },
  {
   "cell_type": "markdown",
   "metadata": {
    "collapsed": true
   },
   "source": [
    "<b>Ejercicio 6.8.8.</b> Escribir una función que reciba una cadena de unos y ceros (es decir, un número en representación binaria) y devuelva el valor decimal correspondiente."
   ]
  },
  {
   "cell_type": "code",
   "execution_count": 42,
   "metadata": {
    "collapsed": false
   },
   "outputs": [],
   "source": [
    "def bin_to_dec(num):\n",
    "    \"\"\"DocString\n",
    "    \"\"\"\n",
    "    dec = 0\n",
    "    for car in num:\n",
    "        dec *= 2\n",
    "        if car == \"1\":\n",
    "            dec += 1\n",
    "    return dec"
   ]
  },
  {
   "cell_type": "code",
   "execution_count": 43,
   "metadata": {
    "collapsed": false
   },
   "outputs": [
    {
     "name": "stdout",
     "output_type": "stream",
     "text": [
      "196\n"
     ]
    }
   ],
   "source": [
    "print(bin_to_dec(\"11000100\"))"
   ]
  }
 ],
 "metadata": {
  "anaconda-cloud": {},
  "kernelspec": {
   "display_name": "Python 3",
   "language": "python",
   "name": "python3"
  },
  "language_info": {
   "codemirror_mode": {
    "name": "ipython",
    "version": 3
   },
   "file_extension": ".py",
   "mimetype": "text/x-python",
   "name": "python",
   "nbconvert_exporter": "python",
   "pygments_lexer": "ipython3",
   "version": "3.10.8"
  },
  "vscode": {
   "interpreter": {
    "hash": "e7370f93d1d0cde622a1f8e1c04877d8463912d04d973331ad4851f04de6915a"
   }
  }
 },
 "nbformat": 4,
 "nbformat_minor": 1
}
